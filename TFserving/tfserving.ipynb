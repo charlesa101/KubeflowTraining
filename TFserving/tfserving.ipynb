{
 "cells": [
  {
   "cell_type": "code",
   "execution_count": 1,
   "metadata": {},
   "outputs": [
    {
     "name": "stdout",
     "output_type": "stream",
     "text": [
      "NAME              STATUS   AGE\r\n",
      "kube-system       Active   8d\r\n",
      "kube-public       Active   8d\r\n",
      "kube-node-lease   Active   8d\r\n",
      "default           Active   8d\r\n",
      "kubeflow          Active   8d\r\n",
      "istio-system      Active   8d\r\n",
      "cert-manager      Active   8d\r\n",
      "knative-serving   Active   8d\r\n",
      "anonymous         Active   14h\r\n"
     ]
    }
   ],
   "source": [
    "!kubectl get ns"
   ]
  },
  {
   "cell_type": "code",
   "execution_count": 89,
   "metadata": {},
   "outputs": [
    {
     "name": "stdout",
     "output_type": "stream",
     "text": [
      "service \"tfserving-service\" deleted\n",
      "deployment.apps \"tfserving\" deleted\n"
     ]
    }
   ],
   "source": [
    "!kubectl delete svc/tfserving-service deployment/tfserving -n tfserving"
   ]
  },
  {
   "cell_type": "code",
   "execution_count": 46,
   "metadata": {},
   "outputs": [
    {
     "name": "stdout",
     "output_type": "stream",
     "text": [
      "namespace/tfserving created\r\n"
     ]
    }
   ],
   "source": [
    "!kubectl create ns tfserving"
   ]
  },
  {
   "cell_type": "code",
   "execution_count": 47,
   "metadata": {},
   "outputs": [
    {
     "name": "stdout",
     "output_type": "stream",
     "text": [
      "namespace/tfserving labeled\r\n"
     ]
    }
   ],
   "source": [
    "!kubectl label ns tfserving serving.kubeflow.org/inferenceservice=enabled"
   ]
  },
  {
   "cell_type": "code",
   "execution_count": 90,
   "metadata": {},
   "outputs": [
    {
     "name": "stdout",
     "output_type": "stream",
     "text": [
      "service/tfserving-service created\n",
      "deployment.apps/tfserving created\n"
     ]
    }
   ],
   "source": [
    "!kubectl apply -f tfserving.yaml -n tfserving"
   ]
  },
  {
   "cell_type": "code",
   "execution_count": 94,
   "metadata": {},
   "outputs": [
    {
     "name": "stdout",
     "output_type": "stream",
     "text": [
      "NAME                         READY   STATUS    RESTARTS   AGE\n",
      "tfserving-6955975fff-hn9kl   1/1     Running   0          2m6s\n"
     ]
    }
   ],
   "source": [
    "!kubectl get pods -n tfserving"
   ]
  },
  {
   "cell_type": "code",
   "execution_count": 93,
   "metadata": {},
   "outputs": [
    {
     "name": "stdout",
     "output_type": "stream",
     "text": [
      "Name:         tfserving-6955975fff-hn9kl\r\n",
      "Namespace:    tfserving\r\n",
      "Priority:     0\r\n",
      "Node:         ip-172-16-0-132/172.16.0.132\r\n",
      "Start Time:   Sat, 13 Feb 2021 18:41:23 +0000\r\n",
      "Labels:       app=churn\r\n",
      "              pod-template-hash=6955975fff\r\n",
      "              version=v1\r\n",
      "Annotations:  cni.projectcalico.org/podIP: 10.1.124.78/32\r\n",
      "              cni.projectcalico.org/podIPs: 10.1.124.78/32\r\n",
      "              sidecar.istio.io/inject: true\r\n",
      "Status:       Running\r\n",
      "IP:           10.1.124.78\r\n",
      "IPs:\r\n",
      "  IP:           10.1.124.78\r\n",
      "Controlled By:  ReplicaSet/tfserving-6955975fff\r\n",
      "Containers:\r\n",
      "  churn-container:\r\n",
      "    Container ID:  containerd://4be43fddef618c11dc2043ec9e7d51de33ef8efd44d10d096dc43e6fb7beb88b\r\n",
      "    Image:         ugoiloh/mavencode:1.0.2\r\n",
      "    Image ID:      docker.io/ugoiloh/mavencode@sha256:0bf36e03d28195aea4dcdaeaf9ae8bcaa3d34604374a3a0e3aa74dab8755234d\r\n",
      "    Ports:         9000/TCP, 8500/TCP\r\n",
      "    Host Ports:    0/TCP, 0/TCP\r\n",
      "    Command:\r\n",
      "      /usr/bin/tensorflow_model_server\r\n",
      "    Args:\r\n",
      "      --port=9000\r\n",
      "      --rest_api_port=8500\r\n",
      "      --model_name=churn\r\n",
      "      --model_base_path=/models\r\n",
      "    State:          Running\r\n",
      "      Started:      Sat, 13 Feb 2021 18:41:25 +0000\r\n",
      "    Ready:          True\r\n",
      "    Restart Count:  0\r\n",
      "    Limits:\r\n",
      "      cpu:     4\r\n",
      "      memory:  4Gi\r\n",
      "    Requests:\r\n",
      "      cpu:        1\r\n",
      "      memory:     1Gi\r\n",
      "    Liveness:     tcp-socket :9000 delay=30s timeout=1s period=30s #success=1 #failure=3\r\n",
      "    Environment:  <none>\r\n",
      "    Mounts:\r\n",
      "      /var/run/secrets/kubernetes.io/serviceaccount from default-token-wsxsb (ro)\r\n",
      "Conditions:\r\n",
      "  Type              Status\r\n",
      "  Initialized       True \r\n",
      "  Ready             True \r\n",
      "  ContainersReady   True \r\n",
      "  PodScheduled      True \r\n",
      "Volumes:\r\n",
      "  default-token-wsxsb:\r\n",
      "    Type:        Secret (a volume populated by a Secret)\r\n",
      "    SecretName:  default-token-wsxsb\r\n",
      "    Optional:    false\r\n",
      "QoS Class:       Burstable\r\n",
      "Node-Selectors:  <none>\r\n",
      "Tolerations:     node.kubernetes.io/not-ready:NoExecute for 300s\r\n",
      "                 node.kubernetes.io/unreachable:NoExecute for 300s\r\n",
      "Events:\r\n",
      "  Type     Reason            Age        From                      Message\r\n",
      "  ----     ------            ----       ----                      -------\r\n",
      "  Warning  FailedScheduling  <unknown>                            0/1 nodes are available: 1 Insufficient cpu.\r\n",
      "  Warning  FailedScheduling  <unknown>                            0/1 nodes are available: 1 Insufficient cpu.\r\n",
      "  Normal   Scheduled         <unknown>                            Successfully assigned tfserving/tfserving-6955975fff-hn9kl to ip-172-16-0-132\r\n",
      "  Normal   Pulling           87s        kubelet, ip-172-16-0-132  Pulling image \"ugoiloh/mavencode:1.0.2\"\r\n",
      "  Normal   Pulled            87s        kubelet, ip-172-16-0-132  Successfully pulled image \"ugoiloh/mavencode:1.0.2\" in 321.208704ms\r\n",
      "  Normal   Created           87s        kubelet, ip-172-16-0-132  Created container churn-container\r\n",
      "  Normal   Started           86s        kubelet, ip-172-16-0-132  Started container churn-container\r\n"
     ]
    }
   ],
   "source": [
    "!kubectl describe pods tfserving-6955975fff-hn9kl -n tfserving"
   ]
  },
  {
   "cell_type": "code",
   "execution_count": 98,
   "metadata": {},
   "outputs": [
    {
     "name": "stdout",
     "output_type": "stream",
     "text": [
      "NAME                TYPE           CLUSTER-IP       EXTERNAL-IP   PORT(S)                         AGE\r\n",
      "tfserving-service   LoadBalancer   10.152.183.175   <pending>     9000:31358/TCP,8500:32328/TCP   8m24s\r\n"
     ]
    }
   ],
   "source": [
    "!kubectl get svc tfserving-service -n tfserving"
   ]
  },
  {
   "cell_type": "code",
   "execution_count": 99,
   "metadata": {},
   "outputs": [
    {
     "name": "stdout",
     "output_type": "stream",
     "text": [
      "2021-02-13 18:41:25.103571: I tensorflow_serving/model_servers/server.cc:88] Building single TensorFlow model file config:  model_name: churn model_base_path: /models\r\n",
      "2021-02-13 18:41:25.103817: I tensorflow_serving/model_servers/server_core.cc:464] Adding/updating models.\r\n",
      "2021-02-13 18:41:25.103839: I tensorflow_serving/model_servers/server_core.cc:587]  (Re-)adding model: churn\r\n",
      "2021-02-13 18:41:25.204356: I tensorflow_serving/core/basic_manager.cc:740] Successfully reserved resources to load servable {name: churn version: 1}\r\n",
      "2021-02-13 18:41:25.204403: I tensorflow_serving/core/loader_harness.cc:66] Approving load for servable version {name: churn version: 1}\r\n",
      "2021-02-13 18:41:25.204415: I tensorflow_serving/core/loader_harness.cc:74] Loading servable version {name: churn version: 1}\r\n",
      "2021-02-13 18:41:25.204468: I external/org_tensorflow/tensorflow/cc/saved_model/reader.cc:32] Reading SavedModel from: /models/1\r\n",
      "2021-02-13 18:41:25.206814: I external/org_tensorflow/tensorflow/cc/saved_model/reader.cc:55] Reading meta graph with tags { serve }\r\n",
      "2021-02-13 18:41:25.206851: I external/org_tensorflow/tensorflow/cc/saved_model/reader.cc:93] Reading SavedModel debug info (if present) from: /models/1\r\n",
      "2021-02-13 18:41:25.206985: I external/org_tensorflow/tensorflow/core/platform/cpu_feature_guard.cc:142] This TensorFlow binary is optimized with oneAPI Deep Neural Network Library (oneDNN) to use the following CPU instructions in performance-critical operations:  AVX2 FMA\r\n",
      "To enable them in other operations, rebuild TensorFlow with the appropriate compiler flags.\r\n",
      "2021-02-13 18:41:25.237897: I external/org_tensorflow/tensorflow/cc/saved_model/loader.cc:206] Restoring SavedModel bundle.\r\n",
      "2021-02-13 18:41:25.239036: I external/org_tensorflow/tensorflow/core/platform/profile_utils/cpu_utils.cc:112] CPU Frequency: 2300080000 Hz\r\n",
      "2021-02-13 18:41:25.279649: I external/org_tensorflow/tensorflow/cc/saved_model/loader.cc:190] Running initialization op on SavedModel bundle at path: /models/1\r\n",
      "2021-02-13 18:41:25.286205: I external/org_tensorflow/tensorflow/cc/saved_model/loader.cc:277] SavedModel load for tags { serve }; Status: success: OK. Took 81739 microseconds.\r\n",
      "2021-02-13 18:41:25.286856: I tensorflow_serving/servables/tensorflow/saved_model_warmup_util.cc:59] No warmup data file found at /models/1/assets.extra/tf_serving_warmup_requests\r\n",
      "2021-02-13 18:41:25.287280: I tensorflow_serving/core/loader_harness.cc:87] Successfully loaded servable version {name: churn version: 1}\r\n",
      "2021-02-13 18:41:25.290199: I tensorflow_serving/model_servers/server.cc:371] Running gRPC ModelServer at 0.0.0.0:9000 ...\r\n",
      "[evhttp_server.cc : 238] NET_LOG: Entering the event loop ...\r\n",
      "2021-02-13 18:41:25.292059: I tensorflow_serving/model_servers/server.cc:391] Exporting HTTP/REST API at:localhost:8500 ...\r\n"
     ]
    }
   ],
   "source": [
    "!kubectl logs -c churn-container tfserving-6955975fff-hn9kl -n tfserving"
   ]
  },
  {
   "cell_type": "code",
   "execution_count": null,
   "metadata": {},
   "outputs": [],
   "source": [
    "!kubectl port-forward tfserving-6955975fff-hn9kl 8500:8500 -n tfserving"
   ]
  },
  {
   "cell_type": "code",
   "execution_count": 132,
   "metadata": {},
   "outputs": [
    {
     "name": "stdout",
     "output_type": "stream",
     "text": [
      "*   Trying ::1...\n",
      "* TCP_NODELAY set\n",
      "* Connected to localhost (::1) port 8500 (#0)\n",
      "> POST /v1/models/churn:predict HTTP/1.1\n",
      "> Host: localhost:8500\n",
      "> User-Agent: curl/7.58.0\n",
      "> Accept: */*\n",
      "> Content-Length: 281\n",
      "> Content-Type: application/x-www-form-urlencoded\n",
      "> \n",
      "* upload completely sent off: 281 out of 281 bytes\n",
      "< HTTP/1.1 200 OK\n",
      "HTTP/1.1 200 OK\n",
      "< Content-Type: application/json\n",
      "Content-Type: application/json\n",
      "< Date: Sun, 14 Feb 2021 04:04:45 GMT\n",
      "Date: Sun, 14 Feb 2021 04:04:45 GMT\n",
      "< Content-Length: 90\n",
      "Content-Length: 90\n",
      "\n",
      "< \n",
      "{\n",
      "    \"predictions\": [[0.0167271495], [0.165913582], [0.0756933689], [0.595268786]\n",
      "    ]\n",
      "* Connection #0 to host localhost left intact\n",
      "}"
     ]
    }
   ],
   "source": [
    "!curl -i -v -d @input.json -X POST http://localhost:8500/v1/models/churn:predict"
   ]
  },
  {
   "cell_type": "code",
   "execution_count": 116,
   "metadata": {},
   "outputs": [],
   "source": [
    "input_data = {\n",
    "    \"instances\": [\n",
    "        [0.672, 32, 6, 0.0, 2, 1, 1, 0.895494, 1, 0, 0, 0, 1],\n",
    "        [0.564, 42, 4, 0.47686, 2, 1, 1, 0.979930, 0, 1, 0, 0, 1],\n",
    "        [0.418, 24, 3, 0.457317, 1, 1, 0, 0.429438, 0, 0, 1, 0, 1],\n",
    "        [0.760, 47, 7, 0.0, 1, 1, 0, 0.166824, 1, 0, 0, 1, 0]\n",
    "    ]\n",
    "}"
   ]
  }
 ],
 "metadata": {
  "kernelspec": {
   "display_name": "Python 3",
   "language": "python",
   "name": "python3"
  },
  "language_info": {
   "codemirror_mode": {
    "name": "ipython",
    "version": 3
   },
   "file_extension": ".py",
   "mimetype": "text/x-python",
   "name": "python",
   "nbconvert_exporter": "python",
   "pygments_lexer": "ipython3",
   "version": "3.6.9"
  }
 },
 "nbformat": 4,
 "nbformat_minor": 4
}
